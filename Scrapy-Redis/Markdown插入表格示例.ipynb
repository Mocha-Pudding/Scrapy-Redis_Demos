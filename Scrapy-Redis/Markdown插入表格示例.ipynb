{
 "cells": [
  {
   "cell_type": "markdown",
   "metadata": {},
   "source": [
    "## Markdown插入表格语法\n",
    "\n",
    "我们知道默认情况下，Markdown 插入的表格，单元格中的内容默认左对齐；表头单元格中的内容会一直居中对齐（不同的实现可能会有不同表现）。"
   ]
  },
  {
   "cell_type": "markdown",
   "metadata": {},
   "source": [
    "#### 示例1效果如下：\n",
    "| 一个普通标题 | 一个普通标题 | 一个普通标题 |\n",
    "| ------ | ------ | ------ |\n",
    "| 短文本 | 中等文本 | 稍微长一点的文本 |\n",
    "| 稍微长一点的文本 | 短文本 | 中等文本 |"
   ]
  },
  {
   "cell_type": "markdown",
   "metadata": {},
   "source": [
    "#### 示例1Markdown 代码：\n",
    "| 一个普通标题 | 一个普通标题 | 一个普通标题 |\n",
    "| ------ | ------ | ------ |\n",
    "| 短文本 | 中等文本 | 稍微长一点的文本 |\n",
    "| 稍微长一点的文本 | 短文本 | 中等文本 |"
   ]
  },
  {
   "cell_type": "markdown",
   "metadata": {},
   "source": [
    "#### 示例2效果如下：\n",
    "| 左对齐标题 | 右对齐标题 | 居中对齐标题 |\n",
    "| :------| ------: | :------: |\n",
    "| 短文本 | 中等文本 | 稍微长一点的文本 |\n",
    "| 稍微长一点的文本 | 短文本 | 中等文本 |"
   ]
  },
  {
   "cell_type": "markdown",
   "metadata": {},
   "source": [
    "#### 示例2Markdown 代码：\n",
    "| 左对齐标题 | 右对齐标题 | 居中对齐标题 |\n",
    "| :------| ------: | :------: |\n",
    "| 短文本 | 中等文本 | 稍微长一点的文本 |\n",
    "| 稍微长一点的文本 | 短文本 | 中等文本 |"
   ]
  },
  {
   "cell_type": "markdown",
   "metadata": {},
   "source": [
    "### 语法说明\n",
    "1. |、-、:之间的多余空格会被忽略，不影响布局。\n",
    "2. 默认标题栏居中对齐，内容居左对齐。\n",
    "3. -:表示内容和标题栏居右对齐，:-表示内容和标题栏居左对齐，:-:表示内容和标题栏居中对齐。\n",
    "4. 内容和|之间的多余空格会被忽略，每行第一个|和最后一个|可以省略，-的数量至少有一个。\n"
   ]
  }
 ],
 "metadata": {
  "kernelspec": {
   "display_name": "Python 3",
   "language": "python",
   "name": "python3"
  },
  "language_info": {
   "codemirror_mode": {
    "name": "ipython",
    "version": 3
   },
   "file_extension": ".py",
   "mimetype": "text/x-python",
   "name": "python",
   "nbconvert_exporter": "python",
   "pygments_lexer": "ipython3",
   "version": "3.6.3"
  }
 },
 "nbformat": 4,
 "nbformat_minor": 2
}

{
 "cells": [
  {
   "cell_type": "markdown",
   "metadata": {},
   "source": [
    "## redis教程："
   ]
  },
  {
   "cell_type": "markdown",
   "metadata": {},
   "source": [
    "### 概述\n",
    "redis是一种支持分布式的nosql数据库,他的数据是保存在内存中，同时redis可以定时把内存数据同步到磁盘，即可以将数据持久化，并且他比memcached支持更多的数据结构(string,list列表[队列和栈],set[集合],sorted set[有序集合],hash(hash表))。   \n",
    "相关参考文档：http://redisdoc.com/index.html"
   ]
  },
  {
   "cell_type": "markdown",
   "metadata": {},
   "source": [
    "### redis使用场景：\n",
    "1. 登录会话存储：存储在redis中，与memcached相比，数据不会丢失。\n",
    "2. 排行版/计数器：比如一些秀场类的项目，经常会有一些前多少名的主播排名。还有一些文章阅读量的技术，或者新浪微博的点赞数等。\n",
    "3. 作为消息队列：比如celery就是使用redis作为中间人。\n",
    "4. 当前在线人数：还是之前的秀场例子，会显示当前系统有多少在线人数。\n",
    "5. 一些常用的数据缓存：比如我们的BBS论坛，板块不会经常变化的，但是每次访问首页都要从mysql中获取，可以在redis中缓存起来，不用每次请求数据库。\n",
    "6. 把前200篇文章缓存或者评论缓存：一般用户浏览网站，只会浏览前面一部分文章或者评论，那么可以把前面200篇文章和对应的评论缓存起来。用户访问超过的，就访问数据库，并且以后文章超过200篇，则把之前的文章删除。\n",
    "7. 好友关系：微博的好友关系使用redis实现。\n",
    "8. 发布和订阅功能：可以用来做聊天软件。"
   ]
  },
  {
   "cell_type": "markdown",
   "metadata": {},
   "source": [
    "### redis和memcached的比较：\n",
    "||memcached|redis|\n",
    "| ------ | ------ | ------ |\n",
    "|类型|纯内存数据库|内存磁盘同步数据库|\n",
    "|数据类型|在定义value时就要固定数据类型|不需要|\n",
    "|虚拟内存|不支持|支持|\n",
    "|过期策略|支持|支持|\n",
    "|存储数据安全|不支持|可以将数据同步到dump.db中|\n",
    "|灾难恢复|不支持|可以将磁盘中的数据恢复到内存中|\n",
    "|分布式|支持|主从同步|\n",
    "|订阅与发布|不支持|支持|"
   ]
  },
  {
   "cell_type": "markdown",
   "metadata": {},
   "source": [
    "### redis在ubuntu系统中的安装与启动:\n",
    "   \n",
    "1. 安装：   \n",
    "sudo apt-get install redis-server   \n",
    "   \n",
    "2. 卸载：   \n",
    "sudo apt-get purge --auto-remove redis-server   \n",
    "   \n",
    "3. 启动：redis安装后，默认会自动启动，可以通过以下命令查看：   \n",
    "ps aux|grep redis   \n",
    "   如果想自己手动启动，可以通过以下命令进行启动：   \n",
    "sudo service redis-server start\n",
    "4. 停止：   \n",
    "sudo service redis-server stop"
   ]
  },
  {
   "cell_type": "markdown",
   "metadata": {},
   "source": [
    "### redis在windows系统中的安装与启动：\n",
    "1. 下载：redis官方是不支持windows操作系统的。但是微软的开源部门将redis移植到了windows上。因此下载地址不是在redis官网上。而是在github上：https://github.com/MicrosoftArchive/redis/releases\n",
    "2. 安装：点击下一步安装就可以了。\n",
    "3. 运行：进入到redis安装所在的路径然后执行redis-server.exe redis.windows.conf就可以运行了。\n",
    "4. 连接：redis和mysql以及mongo是一样的，都提供了一个客户端进行连接。输入命令redis-cli（前提是redis安装路径已经加入到环境变量中了）就可以连接到redis服务器了。"
   ]
  },
  {
   "cell_type": "markdown",
   "metadata": {},
   "source": [
    "#### Cmder | Portable console emulator for Windows\n",
    "<img src = \"Cmder - Console Emulator.png\" width = 80%>"
   ]
  },
  {
   "cell_type": "code",
   "execution_count": null,
   "metadata": {
    "collapsed": true
   },
   "outputs": [],
   "source": []
  }
 ],
 "metadata": {
  "kernelspec": {
   "display_name": "Python 3",
   "language": "python",
   "name": "python3"
  },
  "language_info": {
   "codemirror_mode": {
    "name": "ipython",
    "version": 3
   },
   "file_extension": ".py",
   "mimetype": "text/x-python",
   "name": "python",
   "nbconvert_exporter": "python",
   "pygments_lexer": "ipython3",
   "version": "3.6.3"
  }
 },
 "nbformat": 4,
 "nbformat_minor": 2
}

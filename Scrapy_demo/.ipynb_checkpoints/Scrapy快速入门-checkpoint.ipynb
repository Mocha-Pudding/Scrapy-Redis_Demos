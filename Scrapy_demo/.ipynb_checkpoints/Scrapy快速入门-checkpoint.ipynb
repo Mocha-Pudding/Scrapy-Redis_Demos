{
 "cells": [
  {
   "cell_type": "markdown",
   "metadata": {},
   "source": [
    "## Scrapy快速入门"
   ]
  },
  {
   "cell_type": "markdown",
   "metadata": {},
   "source": [
    "#### 安装和文档：\n",
    "1. 安装：通过pip install scrapy即可安装。\n",
    "2. Scrapy官方文档：http://doc.scrapy.org/en/latest\n",
    "3. Scrapy中文文档：http://scrapy-chs.readthedocs.io/zh_CN/latest/index.html\n",
    "   \n",
    "   \n",
    "注意：   \n",
    "1. 在ubuntu上安装scrapy之前，需要先安装以下依赖：\n",
    "sudo apt-get install python3-dev build-essential python3-pip libxml2-dev libxslt1-dev zlib1g-dev libffi-dev libssl-dev，然后再通过pip install scrapy安装。\n",
    "2. 如果在windows系统下，提示这个错误ModuleNotFoundError: No module named 'win32api'，那么使用以下命令可以解决：pip install pypiwin32。"
   ]
  },
  {
   "cell_type": "markdown",
   "metadata": {},
   "source": [
    "### 快速入门：\n",
    "\n",
    "#### 创建项目：\n",
    "要使用Scrapy框架创建项目，需要通过命令来创建。首先进入到你想把这个项目存放的目录。然后使用以下命令创建：\n",
    "\n",
    "scrapy startproject [项目名称]"
   ]
  },
  {
   "cell_type": "markdown",
   "metadata": {
    "collapsed": true
   },
   "source": [
    "### 目录结构介绍：\n",
    "\n",
    "以下介绍下主要文件的作用：   \n",
    "   \n",
    "items.py：用来存放爬虫爬取下来数据的模型。   \n",
    "middlewares.py：用来存放各种中间件的文件。   \n",
    "pipelines.py：用来将items的模型存储到本地磁盘中。   \n",
    "settings.py：本爬虫的一些配置信息（比如请求头、多久发送一次请求、ip代理池等）。   \n",
    "scrapy.cfg：项目的配置文件。   \n",
    "spiders包：以后所有的爬虫，都是存放到这个里面。   "
   ]
  },
  {
   "cell_type": "markdown",
   "metadata": {},
   "source": [
    "#### Scrapy笔记总结：\n",
    "<img src=\"Scrapy笔记.jpg\" width=\"80%\">"
   ]
  }
 ],
 "metadata": {
  "kernelspec": {
   "display_name": "Python 3",
   "language": "python",
   "name": "python3"
  },
  "language_info": {
   "codemirror_mode": {
    "name": "ipython",
    "version": 3
   },
   "file_extension": ".py",
   "mimetype": "text/x-python",
   "name": "python",
   "nbconvert_exporter": "python",
   "pygments_lexer": "ipython3",
   "version": "3.6.3"
  }
 },
 "nbformat": 4,
 "nbformat_minor": 2
}

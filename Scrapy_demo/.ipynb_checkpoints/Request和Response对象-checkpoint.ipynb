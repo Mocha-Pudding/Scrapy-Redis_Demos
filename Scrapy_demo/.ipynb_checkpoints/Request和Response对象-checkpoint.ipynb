{
 "cells": [
  {
   "cell_type": "markdown",
   "metadata": {},
   "source": [
    "## Request对象：\n",
    "   \n",
    "<img >Request对象内建函数截图"
   ]
  },
  {
   "cell_type": "markdown",
   "metadata": {},
   "source": [
    "Request对象在我们写爬虫，爬取一页的数据需要重新发送一个请求的时候调用。这个类需要传递一些参数，其中比较常用的参数有：\n",
    "1. url：这个request对象发送请求的url。\n",
    "2. callback：在下载器下载完成相应的数据后执行的回调函数。\n",
    "3. method：请求的方法。默认为GET方法，可以设置为其他方法。\n",
    "4. headers：请求头，对于一些固定的设置，放在setting.py中指定就可以了。对于那些非固定的，可以在发送请求的时候指定。\n",
    "5. meta：比较常用。用于在不同的请求之间传递数据用的。\n",
    "6. encoding：编码。默认为utf-8，使用默认就可以了。\n",
    "7. dot_filter：表示不由调度器过滤，在执行多次重复的请求的时候用得比较多。\n",
    "8. errback：在发生错误的时候执行的函数。"
   ]
  },
  {
   "cell_type": "markdown",
   "metadata": {},
   "source": [
    "## Response对象："
   ]
  },
  {
   "cell_type": "markdown",
   "metadata": {
    "collapsed": true
   },
   "source": [
    "Response对象一般是由Scrapy给你自动构建的。因此开发者不需要关心如何创建Response对象，而是如何使用。Response对象有很多属性，可以用来提取数据的。主要有以下属性：   \n",
    "1. meta：从其他请求传过来的meta属性，可以用来保持多个请求之间的数据连接。\n",
    "2. encoding：返回当前字符串编码和解码的格式。\n",
    "3. text：将返回的数据作为unicode字符串返回。\n",
    "4. body：将返回来的数据作为bytes字符串返回。\n",
    "5. xpath：xpath选择器。\n",
    "6. css：css选择器。"
   ]
  },
  {
   "cell_type": "markdown",
   "metadata": {},
   "source": [
    "## 发送POST请求："
   ]
  },
  {
   "cell_type": "markdown",
   "metadata": {},
   "source": [
    "有时候我们想要请求数据的时候发送post请求，那么这时候需要使用Request的子类FormRequest来实现。如果想要在爬虫一开始的时候就发送post请求，那么需要在爬虫类中重写start_requests(self)方法，并且不再调用start_urls里的url。"
   ]
  },
  {
   "cell_type": "markdown",
   "metadata": {},
   "source": [
    "## 模拟登录\n",
    "   \n",
    "### 案例一：模拟登录人人网\n",
    "1. 想要发送post请求，那么推荐使用\"scrapy.FormRequest\"方法，可以方便的指出表单数据。\n",
    "2. 如果想在爬虫一开始的时候就发送post请求，那么应该重写\"start_requests\"方法。在这个方法中，发送post请求。\n",
    "\n",
    "### 案例二：模拟登录豆瓣网（识别验证码）"
   ]
  }
 ],
 "metadata": {
  "kernelspec": {
   "display_name": "Python 3",
   "language": "python",
   "name": "python3"
  },
  "language_info": {
   "codemirror_mode": {
    "name": "ipython",
    "version": 3
   },
   "file_extension": ".py",
   "mimetype": "text/x-python",
   "name": "python",
   "nbconvert_exporter": "python",
   "pygments_lexer": "ipython3",
   "version": "3.6.3"
  }
 },
 "nbformat": 4,
 "nbformat_minor": 2
}

{
 "cells": [
  {
   "cell_type": "markdown",
   "metadata": {},
   "source": [
    "## 下载文件和图片\n",
    "\n",
    "Scrapy为下载item中包含的文件（比如在爬取到产品时，同时也想保存对应的图片）提供了一个可重用的item pipelines。这些pipeline有些共同的方法和结构（我们称之为media pipeline）。一般来说你会使用Files Pipelines或者Images Pipelines。"
   ]
  },
  {
   "cell_type": "markdown",
   "metadata": {},
   "source": [
    "## 为什么我们要选择使用scrapy内置的下载文件的方法：   \n",
    "   \n",
    "1. 避免重新下载最近已经下载过的文件（去重）\n",
    "2. 可以方便的指定文件存储的路径\n",
    "3. 可以将下载的图片转换成通用的格式。比如png或者jpg\n",
    "4. 可以方便的生成缩略图\n",
    "5. 可以方便的检测图片的宽和高，确保他们满足最小限制\n",
    "6. 异步下载，效率非常高"
   ]
  },
  {
   "cell_type": "markdown",
   "metadata": {},
   "source": [
    "## 下载文件的Files Pipeline：\n",
    "当使用Files Pipeline下载文件的时候，按照以下步骤来完成：\n",
    "1. 定义好一个Item，然后在这个item中定义两个属性，分别为file_urls以及files。file_urls是用来存储需要下载的文件的url链接，需要给一个列表。\n",
    "2. 当文件下载完成后，会把文件下载的相关信息存储到item的files属性中。比如下载路径、下载的url和文件的校验码等。\n",
    "3. 在配置文件settings.py中配置FILES_STORE，这个配置是用来设置图片下载来的路径。\n",
    "4. 启动pipeline：在ITEM_PIPELINES中设置scrapy.pipelines.files.FilesPipeline:1。"
   ]
  },
  {
   "cell_type": "markdown",
   "metadata": {},
   "source": [
    "## 下载图片的Images Pipeline：\n",
    "当使用Images Pipeline下载文件的时候，按照以下步骤来完成：\n",
    "1. 定义好一个Item，然后在这个item中定义两个属性，分别为imag_urls以及images。image_urls是用来存储需要下载的图片的url链接，需要给一个列表。\n",
    "2. 当文件下载完成后，会把文件下载的相关信息存储到item的images属性中。比如下载路径、下载的url和图片的校验码等。\n",
    "3. 在配置文件settings.py中配置IMAGS_STORE，这个配置是用来设置图片下载来的路径。\n",
    "4. 启动pipeline：在ITEM_PIPELINES中设置scrapy.pipelines.images.ImagesPipeline:1。"
   ]
  },
  {
   "cell_type": "markdown",
   "metadata": {},
   "source": [
    "### 项目实战：Scrapy框架下载汽车之家"
   ]
  }
 ],
 "metadata": {
  "kernelspec": {
   "display_name": "Python 3",
   "language": "python",
   "name": "python3"
  },
  "language_info": {
   "codemirror_mode": {
    "name": "ipython",
    "version": 3
   },
   "file_extension": ".py",
   "mimetype": "text/x-python",
   "name": "python",
   "nbconvert_exporter": "python",
   "pygments_lexer": "ipython3",
   "version": "3.6.3"
  }
 },
 "nbformat": 4,
 "nbformat_minor": 2
}

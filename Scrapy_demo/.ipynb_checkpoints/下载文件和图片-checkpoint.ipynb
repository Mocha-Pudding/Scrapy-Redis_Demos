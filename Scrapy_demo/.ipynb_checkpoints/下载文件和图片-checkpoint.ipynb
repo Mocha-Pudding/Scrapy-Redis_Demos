{
 "cells": [
  {
   "cell_type": "markdown",
   "metadata": {},
   "source": [
    "## 下载文件和图片\n",
    "\n",
    "Scrapy为下载item中包含的文件（比如在爬取到产品时，同时也想保存对应的图片）提供了一个可重用的item pipelines。这些pipeline有些共同的方法赫尔结构（我们称之为media pipeline）。一般来说你会使用Files Pipelines或者Images Pipelines。"
   ]
  },
  {
   "cell_type": "markdown",
   "metadata": {},
   "source": [
    "## 为什么我们要选择使用scrapy内置的下载文件的方法：   \n",
    "   \n",
    "1. 避免重新下载最近已经下载过的数据\n",
    "2. 可以方便的指定文件存储的路径\n",
    "3. 可以将下载的图片转换成通用的格式。比如png或者jpg\n",
    "4. 可以方便的生成缩略图\n",
    "5. 可以方便的检测图片的宽和高，确保他们满足最小限制\n",
    "6. 异步下载，效率非常高"
   ]
  },
  {
   "cell_type": "markdown",
   "metadata": {},
   "source": [
    "## 下载文件的Files Pipelines：\n",
    "当使用"
   ]
  }
 ],
 "metadata": {
  "kernelspec": {
   "display_name": "Python 3",
   "language": "python",
   "name": "python3"
  },
  "language_info": {
   "codemirror_mode": {
    "name": "ipython",
    "version": 3
   },
   "file_extension": ".py",
   "mimetype": "text/x-python",
   "name": "python",
   "nbconvert_exporter": "python",
   "pygments_lexer": "ipython3",
   "version": "3.6.3"
  }
 },
 "nbformat": 4,
 "nbformat_minor": 2
}

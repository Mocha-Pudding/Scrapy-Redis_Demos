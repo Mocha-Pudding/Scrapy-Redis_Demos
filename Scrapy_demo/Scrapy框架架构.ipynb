{
 "cells": [
  {
   "cell_type": "markdown",
   "metadata": {},
   "source": [
    "# Scrapy框架架构"
   ]
  },
  {
   "cell_type": "markdown",
   "metadata": {},
   "source": [
    "### Scrapy框架介绍：\n",
    "\n",
    "写一个爬虫，需要做很多的事情。比如：发送网络请求（urllib库、requests库）、数据解析（BeautifulSoup库、xpath解析、正则表达式、css选择器）、数据存储（excel表格、csv文件、json文件、MySQL数据库、MongoDB数据库）、反反爬虫机制（更换ip代理、设置请求头等）、异步请求等。   \n",
    "这些工作如果每次都要自己从零开始写的话，比较浪费时间。因此Scrapy把一些基础的东西封装好了，在他上面写爬虫可以变的更加的高效（爬取效率和开发效率）。   \n",
    "因此真正在公司里，一些上了量的爬虫，都是使用Scrapy框架来解决。"
   ]
  },
  {
   "cell_type": "markdown",
   "metadata": {},
   "source": [
    "#### 流程图1：\n",
    "<img src=\"Scrapy_Architecture.png\" width=\"60%\">"
   ]
  },
  {
   "cell_type": "markdown",
   "metadata": {},
   "source": [
    "#### 流程图2：\n",
    "<img src=\"Dataflow.png\" width=\"80%\">"
   ]
  },
  {
   "cell_type": "markdown",
   "metadata": {},
   "source": [
    "### Scrapy框架模块功能：   \n",
    "\n",
    "1. Scrapy Engine（引擎）：Scrapy框架的核心部分。负责在Spider和ItemPipeline、Downloader、Scheduler中间通信、传递数据等。   \n",
    "2. Spider（爬虫）：发送需要爬取的链接给引擎，最后引擎把其他模块请求回来的数据再发送给爬虫，爬虫就去解析想要的数据。这个部分是我们开发者自己写  的，因为要爬取哪些链接，页面中的哪些数据是我们需要的，都是由程序员自己决定。   \n",
    "3. Scheduler（调度器）：负责接收引擎发送过来的请求，并按照一定的方式进行排列和整理，负责调度请求的顺序等。   \n",
    "4. Downloader（下载器）：负责接收引擎传过来的下载请求，然后去网络上下载对应的数据再交还给引擎。   \n",
    "5. Item Pipeline（管道）：负责将Spider（爬虫）传递过来的数据进行保存。具体保存在哪里，应该看开发者自己的需求。   \n",
    "6. Downloader Middlewares（下载中间件）：可以扩展下载器和引擎之间通信功能的中间件。   \n",
    "7. Spider Middlewares（Spider中间件）：可以扩展引擎和爬虫之间通信功能的中间件。   "
   ]
  }
 ],
 "metadata": {
  "kernelspec": {
   "display_name": "Python 3",
   "language": "python",
   "name": "python3"
  },
  "language_info": {
   "codemirror_mode": {
    "name": "ipython",
    "version": 3
   },
   "file_extension": ".py",
   "mimetype": "text/x-python",
   "name": "python",
   "nbconvert_exporter": "python",
   "pygments_lexer": "ipython3",
   "version": "3.6.3"
  }
 },
 "nbformat": 4,
 "nbformat_minor": 2
}

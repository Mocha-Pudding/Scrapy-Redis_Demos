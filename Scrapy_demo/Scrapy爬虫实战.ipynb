{
 "cells": [
  {
   "cell_type": "markdown",
   "metadata": {},
   "source": [
    "## 小程序社区爬虫\n",
    "- 使用CrawlSpider\n",
    "- 数据保存到json文件中。"
   ]
  },
  {
   "cell_type": "markdown",
   "metadata": {},
   "source": [
    "## 模拟登录豆瓣网爬虫\n",
    "- 发送post请求模拟登录"
   ]
  },
  {
   "cell_type": "markdown",
   "metadata": {},
   "source": [
    "## 图片下载爬虫\n",
    "- 汽车之家宝马5系爬虫"
   ]
  },
  {
   "cell_type": "markdown",
   "metadata": {},
   "source": [
    "## BOSS直聘爬虫\n",
    "- BOSS直聘有很高的的反爬虫机制，只能用同一个ip访问多个职位列表，就会被封ip\n",
    "- 采用代理ip的方式可以解决问题"
   ]
  },
  {
   "cell_type": "markdown",
   "metadata": {},
   "source": [
    "## 简书网整站爬虫\n",
    "- 将数据保存到MySQL数据库中\n",
    "- 将selenium + chromedriver集成到Scrapy中动态爬取\n",
    "- 整站爬取"
   ]
  }
 ],
 "metadata": {
  "kernelspec": {
   "display_name": "Python 3",
   "language": "python",
   "name": "python3"
  },
  "language_info": {
   "codemirror_mode": {
    "name": "ipython",
    "version": 3
   },
   "file_extension": ".py",
   "mimetype": "text/x-python",
   "name": "python",
   "nbconvert_exporter": "python",
   "pygments_lexer": "ipython3",
   "version": "3.6.3"
  }
 },
 "nbformat": 4,
 "nbformat_minor": 2
}

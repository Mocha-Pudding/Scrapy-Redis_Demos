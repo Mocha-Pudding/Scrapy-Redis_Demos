{
 "cells": [
  {
   "cell_type": "markdown",
   "metadata": {},
   "source": [
    "## 连接MongoDB：\n",
    "\n",
    " \n",
    "import pymongo\n",
    "\n",
    "##### 获取连接MongoDB的对象\n",
    "client = pymongo.MongoClient(\"127.0.0.1\", port=27017)\n",
    "\n",
    "##### 获取数据库(如果没有ceshi这个数据库也没有关系)\n",
    "db = client.ceshi\n",
    "\n",
    "##### 获取数据库中的集合（也就是MySQL中的表）\n",
    "collection = db.qa\n",
    "\n",
    "##### 插入数据\n",
    "collection.insert({\"username\":\"ZGreenicy\",\"age\":\"24\"})"
   ]
  },
  {
   "cell_type": "code",
   "execution_count": null,
   "metadata": {
    "collapsed": true
   },
   "outputs": [],
   "source": [
    "import pymongo\n",
    "\n",
    "# 获取连接MongoDB的对象\n",
    "client = pymongo.MongoClient(\"127.0.0.1\", port=27017)\n",
    "\n",
    "# 获取数据库(如果没有ceshi这个数据库也没有关系)\n",
    "db = client.ceshi\n",
    "\n",
    "# 获取数据库中的集合（也就是MySQL中的表）\n",
    "collection = db.qa\n",
    "\n",
    "# 插入数据\n",
    "collection.insert({\"username\":\"ZGreenicy\",\"age\":\"24\"})"
   ]
  },
  {
   "cell_type": "markdown",
   "metadata": {},
   "source": [
    "# 数据类型\n",
    "|数据类型        |说明       |\n",
    "|----------|----------|\n",
    "|Objective ID|文档ID|\n",
    "|String|字符串，最实用，必须是有效的UTF-8|\n",
    "|Boolean|存出一个布尔值，true或false|\n",
    "|Integer|整数可以是32位或64位，这取决于服务器|\n",
    "|Double|存储浮点值|\n",
    "|Arrays|数组或列表，多个值存储到一个键|\n",
    "|Objective|用于嵌入式的文档，即一个值为一个文档|\n",
    "|Null|存储Null值|\n",
    "|Timestamp|时间戳，表示从1970-1-1到现在的总秒数|\n",
    "|Date|存储当前日期或时间的UNIX时间格式|"
   ]
  },
  {
   "cell_type": "markdown",
   "metadata": {},
   "source": [
    "## 操作MongoDB\n",
    "\n",
    "#### 操作MongoDB的主要方法如下："
   ]
  },
  {
   "cell_type": "markdown",
   "metadata": {},
   "source": [
    "#### 1.insert_one：加入一条文档数据到集合中，示例代码如下："
   ]
  },
  {
   "cell_type": "code",
   "execution_count": null,
   "metadata": {
    "collapsed": true
   },
   "outputs": [],
   "source": [
    "collection.insert_one({\n",
    "    \"username\":\"JS6\",\n",
    "    \"age\":\"2\"\n",
    "})"
   ]
  },
  {
   "cell_type": "markdown",
   "metadata": {},
   "source": [
    "#### 2.insert_many：插入多条文档数据到集合中"
   ]
  },
  {
   "cell_type": "code",
   "execution_count": null,
   "metadata": {
    "collapsed": true
   },
   "outputs": [],
   "source": [
    "collection.insert_many([\n",
    "    {\n",
    "        \"username\":\"Zhujiange\",\n",
    "        \"age\":\"28\"\n",
    "    },\n",
    "    {\n",
    "        \"username\":\"Zengjingxin\",\n",
    "        \"age\":\"24\"\n",
    "    }\n",
    "])"
   ]
  },
  {
   "cell_type": "markdown",
   "metadata": {},
   "source": [
    "#### 3.获取所有数据"
   ]
  },
  {
   "cell_type": "code",
   "execution_count": null,
   "metadata": {
    "collapsed": true
   },
   "outputs": [],
   "source": [
    "cursor = collection.find()\n",
    "for x in cursor:\n",
    "    print(x)"
   ]
  },
  {
   "cell_type": "markdown",
   "metadata": {},
   "source": [
    "#### 4.获取一条数据   find_one：查找一条文档对象"
   ]
  },
  {
   "cell_type": "code",
   "execution_count": null,
   "metadata": {
    "collapsed": true
   },
   "outputs": [],
   "source": [
    "result = collection.find_one()\n",
    "print(result)\n",
    "\n",
    "# 指定查找条件\n",
    "result = collection.find_one({\"age\":28})\n",
    "print(result)"
   ]
  },
  {
   "cell_type": "markdown",
   "metadata": {},
   "source": [
    "#### 5.更新数据"
   ]
  },
  {
   "cell_type": "code",
   "execution_count": null,
   "metadata": {
    "collapsed": true
   },
   "outputs": [],
   "source": []
  },
  {
   "cell_type": "code",
   "execution_count": null,
   "metadata": {
    "collapsed": true
   },
   "outputs": [],
   "source": []
  },
  {
   "cell_type": "code",
   "execution_count": null,
   "metadata": {
    "collapsed": true
   },
   "outputs": [],
   "source": []
  }
 ],
 "metadata": {
  "kernelspec": {
   "display_name": "Python 3",
   "language": "python",
   "name": "python3"
  },
  "language_info": {
   "codemirror_mode": {
    "name": "ipython",
    "version": 3
   },
   "file_extension": ".py",
   "mimetype": "text/x-python",
   "name": "python",
   "nbconvert_exporter": "python",
   "pygments_lexer": "ipython3",
   "version": "3.6.3"
  }
 },
 "nbformat": 4,
 "nbformat_minor": 2
}

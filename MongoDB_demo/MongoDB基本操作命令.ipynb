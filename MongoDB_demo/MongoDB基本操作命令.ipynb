{
 "cells": [
  {
   "cell_type": "markdown",
   "metadata": {},
   "source": [
    "# MongoDB基本操作命令：\n",
    "\n",
    "#### 1.db：查看当前数据库。\n",
    "#### 2.show dbs：查看所有的数据库。\n",
    "#### 3.use 数据库：切换数据库。如果数据库不存在，则创建一个。（创建完成后需要插入数据库才算创建成功）\n",
    "#### 4.db.dropDatabase()：删除当前指向的数据库。\n",
    "#### 5.db.集合名.insert(value)：添加数据库到指定的集合中。\n",
    "#### 6.db.集合名.find()：从指定的集合中，查找数据\n",
    "\n",
    "#### 更多命令详见：http://www.runoob.com/mongodb/mongodb-tutorial.html"
   ]
  },
  {
   "cell_type": "code",
   "execution_count": null,
   "metadata": {
    "collapsed": true
   },
   "outputs": [],
   "source": []
  },
  {
   "cell_type": "code",
   "execution_count": null,
   "metadata": {
    "collapsed": true
   },
   "outputs": [],
   "source": []
  },
  {
   "cell_type": "code",
   "execution_count": null,
   "metadata": {
    "collapsed": true
   },
   "outputs": [],
   "source": []
  },
  {
   "cell_type": "code",
   "execution_count": null,
   "metadata": {
    "collapsed": true
   },
   "outputs": [],
   "source": []
  },
  {
   "cell_type": "code",
   "execution_count": null,
   "metadata": {
    "collapsed": true
   },
   "outputs": [],
   "source": []
  },
  {
   "cell_type": "code",
   "execution_count": null,
   "metadata": {
    "collapsed": true
   },
   "outputs": [],
   "source": []
  }
 ],
 "metadata": {
  "kernelspec": {
   "display_name": "Python 3",
   "language": "python",
   "name": "python3"
  },
  "language_info": {
   "codemirror_mode": {
    "name": "ipython",
    "version": 3
   },
   "file_extension": ".py",
   "mimetype": "text/x-python",
   "name": "python",
   "nbconvert_exporter": "python",
   "pygments_lexer": "ipython3",
   "version": "3.6.3"
  }
 },
 "nbformat": 4,
 "nbformat_minor": 2
}

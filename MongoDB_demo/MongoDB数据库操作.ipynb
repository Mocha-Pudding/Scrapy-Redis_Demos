{
 "cells": [
  {
   "cell_type": "markdown",
   "metadata": {},
   "source": [
    "# MongoDB数据库操作"
   ]
  },
  {
   "cell_type": "markdown",
   "metadata": {},
   "source": [
    "## 1.MongoDB数据库的安装"
   ]
  },
  {
   "cell_type": "markdown",
   "metadata": {},
   "source": [
    "#### 注意：安装MongoDB数据库后，需要在系统环境变量里加入MongoDB下bin的绝对路径"
   ]
  },
  {
   "cell_type": "code",
   "execution_count": null,
   "metadata": {
    "collapsed": true
   },
   "outputs": [],
   "source": []
  },
  {
   "cell_type": "markdown",
   "metadata": {},
   "source": [
    "## 2.MongoDB数据库的启动和连接"
   ]
  },
  {
   "cell_type": "markdown",
   "metadata": {},
   "source": [
    "### 2.1 运行MongoDB\n",
    "#### 2.1.1 创建数据目录：启动MongoDB前，需要指定一个数据存储路径，比如在MongoDB安装路径下创建一个data文件，专门用来存储数据\n",
    "#### 2.1.2 把MongoDB的bin目录加入到系统环境变量中，方便后期调用\n",
    "#### 2.1.3 执行命令： mongod --dbpath 绝对路径…\\mongodb\\data 启动"
   ]
  },
  {
   "cell_type": "markdown",
   "metadata": {},
   "source": [
    "### 2.2 连接MongoDB\n",
    "#### 在环境变量设置好的前提下，使用以下命令 mongo就可以进入到mongo的操作端了\n",
    "\n",
    "### 2.3 使用Compass软件连接MongoDB\n",
    "#### Compass是一个GUI图形化的操作MongoDB的客户端，类似于操作MySQL的图形化操作软件Navicat"
   ]
  },
  {
   "cell_type": "code",
   "execution_count": null,
   "metadata": {
    "collapsed": true
   },
   "outputs": [],
   "source": []
  },
  {
   "cell_type": "markdown",
   "metadata": {},
   "source": [
    "## 3.将MongoDB制作成Windows服务："
   ]
  },
  {
   "cell_type": "markdown",
   "metadata": {},
   "source": [
    "#### 说明：启动mongo后，如果想让mongo一直运行，那么这个终端便不能关闭，而且每次运行时还要指定data路径，因此我们可以将mongo制作成一个服务，以后通过一行命令就可以运行了。\n",
    "\n",
    "#### 1.创建文件：在mongodb安装的路径下配置文件mongod.cfg（路径和名字不一定与示例一样），然后在配置文件中添加以下代码：\n",
    "##### dbpath=G:\\ProgramApp\\MongoDB\\data\n",
    "##### logpath=G:\\ProgramApp\\MongoDB\\log\\mongodzj.log\n",
    "#### 注：上面dbpath是MongoDB数据库的存储路径，logpath是日志路径。\n",
    "\n",
    "#### 2.安装mongodb服务：\n",
    "#### 使用以下命令即可将mongodb安装成一个服务：\n",
    "##### mongod --config \"cfg配置文件所在路径\" --install\n",
    "##### 例如： mongod --config \"G:\\ProgramApp\\MongoDB\\mongodzj.cfg\" --install\n",
    "\n",
    "#### 3.启动mongodb： net start mongodb\n",
    "\n",
    "#### 4.关闭mongodb：net stop mongodb\n",
    "\n",
    "#### 5.移除mongodb： \"G:\\ProgramApp\\MongoDB\\bin\\mongod.exe\" --remove"
   ]
  },
  {
   "cell_type": "code",
   "execution_count": null,
   "metadata": {
    "collapsed": true
   },
   "outputs": [],
   "source": []
  },
  {
   "cell_type": "markdown",
   "metadata": {},
   "source": [
    "## MongoDB概念介绍：\n",
    "|SQL术语/概念        |MongoDB术语/概念        |解释/说明        |\n",
    "|--------|--------|--------|\n",
    "|database|database|数据库|\n",
    "|table|collection|数据库表/集合|\n",
    "|row|document|数据记录行/文档|\n",
    "|column|field|数据字段/域|\n",
    "|index|index|索引|\n",
    "|joins|joins|表连接，MongoDB不支持|\n",
    "|primary key|primary key|主键,MongoDB自动将_id字段设置为主键|"
   ]
  },
  {
   "cell_type": "markdown",
   "metadata": {},
   "source": [
    "## MongoDB三元素\n",
    "### 三元素：数据库、集合、文档。\n",
    "#### 1.文档（document）：就是关系型数据库中的一行，文档是一个对象，由键值对构成，是json的扩展形式\n",
    "####    {\"name\":'abc', \"gender\":'1'}\n",
    "\n",
    "#### 2.集合（collection）：就是关系型数据库中的表。可以存储多个文档，结构可以不固定。\n",
    "####    {\"name\":\"abc\",\"gender\":\"1\"}\n",
    "####    {\"name\":\"xxx\",\"age\":\"18\"}\n",
    "####    {\"title\":\"yyy\",\"price\":\"20.9\"}"
   ]
  },
  {
   "cell_type": "code",
   "execution_count": null,
   "metadata": {
    "collapsed": true
   },
   "outputs": [],
   "source": []
  }
 ],
 "metadata": {
  "kernelspec": {
   "display_name": "Python 3",
   "language": "python",
   "name": "python3"
  },
  "language_info": {
   "codemirror_mode": {
    "name": "ipython",
    "version": 3
   },
   "file_extension": ".py",
   "mimetype": "text/x-python",
   "name": "python",
   "nbconvert_exporter": "python",
   "pygments_lexer": "ipython3",
   "version": "3.6.3"
  }
 },
 "nbformat": 4,
 "nbformat_minor": 2
}

{
 "cells": [
  {
   "cell_type": "markdown",
   "metadata": {},
   "source": [
    "### Selenium+chromedriver获取动态数据"
   ]
  },
  {
   "cell_type": "markdown",
   "metadata": {},
   "source": [
    "Selenium相当于是一个机器人。可以模拟人类在浏览器上的一些行为，自动处理浏览器上的一些行为，比如点击，填充数据，删除cookie等。    \n",
    "chromedriver是一个驱动Chrome浏览器的驱动程序，使用他才可以驱动浏览器。  \n",
    "\n",
    "当然针对不同的浏览器有不同的driver。以下列出了不同浏览器及其对应的driver：    \n",
    "Chrome：https://sites.google.com/a/chromium.org/chromedriver/downloads    \n",
    "Firefox：https://github.com/mozilla/geckodriver/releases    \n",
    "Edge：https://developer.microsoft.com/en-us/microsoft-edge/tools/webdriver/    \n",
    "Safari：https://webkit.org/blog/6900/webdriver-support-in-safari-10/    "
   ]
  },
  {
   "cell_type": "markdown",
   "metadata": {},
   "source": [
    "### 安装Selenium和chromedriver：\n",
    "1.安装Selenium：Selenium有很多语言的版本，有java、ruby、python等。我们下载python版本的就可以了。   \n",
    "       pip install selenium    \n",
    "2.安装chromedriver：下载完成后，放到不需要权限的纯英文目录下就可以了。    "
   ]
  },
  {
   "cell_type": "code",
   "execution_count": null,
   "metadata": {
    "collapsed": true
   },
   "outputs": [],
   "source": [
    "现在以一个简单的获取百度首页的例子来讲下Selenium和chromedriver如何快速入门：\n",
    "\n",
    "from selenium import webdriver\n",
    "\n",
    "# chromedriver的绝对路径\n",
    "driver_path = r'D:\\ProgramApp\\chromedriver\\chromedriver.exe'\n",
    "\n",
    "# 初始化一个driver，并且指定chromedriver的路径\n",
    "driver = webdriver.Chrome(executable_path=driver_path)\n",
    "# 请求网页\n",
    "driver.get(\"https://www.baidu.com/\")\n",
    "# 通过page_source获取网页源代码\n",
    "print(driver.page_source)"
   ]
  },
  {
   "cell_type": "markdown",
   "metadata": {
    "collapsed": true
   },
   "source": [
    "#### 示例如下，详情参见demo1.py："
   ]
  },
  {
   "cell_type": "code",
   "execution_count": null,
   "metadata": {
    "collapsed": true
   },
   "outputs": [],
   "source": [
    "# selenium + chromedriver \n",
    "\n",
    "from selenium import webdriver\n",
    "\n",
    "# chromedriver的绝对路径\n",
    "driver_path = r\"G:\\ProgramApp\\chromedriver\\chromedriver.exe\"\n",
    "\n",
    "# 初始化一个driver，并且指定chromedriver的路径\n",
    "driver = webdriver.Chrome(executable_path=driver_path)\n",
    "\n",
    "# 请求网页\n",
    "driver.get('https://cn.bing.com/')\n",
    "\n",
    "# 通过page_source获取网页源代码\n",
    "print(driver.page_source)"
   ]
  },
  {
   "cell_type": "markdown",
   "metadata": {
    "collapsed": true
   },
   "source": [
    "### selenium常用操作：\n",
    "#### 更多教程请参考：http://selenium-python.readthedocs.io/installation.html#introduction"
   ]
  },
  {
   "cell_type": "markdown",
   "metadata": {},
   "source": [
    "#### 关闭页面：    \n",
    "driver.close()：关闭当前页面。    \n",
    "driver.quit()：退出整个浏览器。"
   ]
  },
  {
   "cell_type": "markdown",
   "metadata": {
    "collapsed": true
   },
   "source": [
    "#### 定位元素：\n",
    "\n",
    "1.find_element_by_id：根据id来查找某个元素。等价于：     \n",
    " submitTag = driver.find_element_by_id('su')    \n",
    " submitTag1 = driver.find_element(By.ID,'su')    \n",
    " \n",
    "2.find_element_by_class_name：根据类名查找元素。 等价于：    \n",
    " submitTag = driver.find_element_by_class_name('su')    \n",
    " submitTag1 = driver.find_element(By.CLASS_NAME,'su')    \n",
    " \n",
    "3.find_element_by_name：根据name属性的值来查找元素。等价于：    \n",
    " submitTag = driver.find_element_by_name('email')    \n",
    " submitTag1 = driver.find_element(By.NAME,'email')    \n",
    " \n",
    "4.find_element_by_tag_name：根据标签名来查找元素。等价于：    \n",
    " submitTag = driver.find_element_by_tag_name('div')    \n",
    " submitTag1 = driver.find_element(By.TAG_NAME,'div')    \n",
    " \n",
    "5.find_element_by_xpath：根据xpath语法来获取元素。等价于：    \n",
    " submitTag = driver.find_element_by_xpath('//div')    \n",
    " submitTag1 = driver.find_element(By.XPATH,'//div')    \n",
    " \n",
    "6.find_element_by_css_selector：根据css选择器选择元素。等价于：    \n",
    " submitTag = driver.find_element_by_css_selector('//div')    \n",
    " submitTag1 = driver.find_element(By.CSS_SELECTOR,'//div')    \n",
    " \n",
    "要注意，find_element是获取第一个满足条件的元素。find_elements是获取所有满足条件的元素。"
   ]
  },
  {
   "cell_type": "code",
   "execution_count": null,
   "metadata": {
    "collapsed": true
   },
   "outputs": [],
   "source": []
  },
  {
   "cell_type": "code",
   "execution_count": null,
   "metadata": {
    "collapsed": true
   },
   "outputs": [],
   "source": []
  },
  {
   "cell_type": "code",
   "execution_count": null,
   "metadata": {
    "collapsed": true
   },
   "outputs": [],
   "source": []
  }
 ],
 "metadata": {
  "kernelspec": {
   "display_name": "Python 3",
   "language": "python",
   "name": "python3"
  },
  "language_info": {
   "codemirror_mode": {
    "name": "ipython",
    "version": 3
   },
   "file_extension": ".py",
   "mimetype": "text/x-python",
   "name": "python",
   "nbconvert_exporter": "python",
   "pygments_lexer": "ipython3",
   "version": "3.6.3"
  }
 },
 "nbformat": 4,
 "nbformat_minor": 2
}

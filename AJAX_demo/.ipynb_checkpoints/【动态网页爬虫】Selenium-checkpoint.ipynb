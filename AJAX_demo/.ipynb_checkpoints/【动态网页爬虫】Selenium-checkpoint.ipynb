{
 "cells": [
  {
   "cell_type": "markdown",
   "metadata": {},
   "source": [
    "### Selenium+chromedriver获取动态数据"
   ]
  },
  {
   "cell_type": "markdown",
   "metadata": {},
   "source": [
    "Selenium相当于是一个机器人。可以模拟人类在浏览器上的一些行为，自动处理浏览器上的一些行为，比如点击，填充数据，删除cookie等。    \n",
    "chromedriver是一个驱动Chrome浏览器的驱动程序，使用他才可以驱动浏览器。  \n",
    "\n",
    "当然针对不同的浏览器有不同的driver。以下列出了不同浏览器及其对应的driver：    \n",
    "Chrome：https://sites.google.com/a/chromium.org/chromedriver/downloads    \n",
    "Firefox：https://github.com/mozilla/geckodriver/releases    \n",
    "Edge：https://developer.microsoft.com/en-us/microsoft-edge/tools/webdriver/    \n",
    "Safari：https://webkit.org/blog/6900/webdriver-support-in-safari-10/    "
   ]
  },
  {
   "cell_type": "markdown",
   "metadata": {},
   "source": [
    "### 安装Selenium和chromedriver：\n",
    "1.安装Selenium：Selenium有很多语言的版本，有java、ruby、python等。我们下载python版本的就可以了。   \n",
    "       pip install selenium    \n",
    "2.安装chromedriver：下载完成后，放到不需要权限的纯英文目录下就可以了。    "
   ]
  },
  {
   "cell_type": "code",
   "execution_count": null,
   "metadata": {
    "collapsed": true
   },
   "outputs": [],
   "source": [
    "现在以一个简单的获取百度首页的例子来讲下Selenium和chromedriver如何快速入门：\n",
    "\n",
    "from selenium import webdriver\n",
    "\n",
    "# chromedriver的绝对路径\n",
    "driver_path = r'D:\\ProgramApp\\chromedriver\\chromedriver.exe'\n",
    "\n",
    "# 初始化一个driver，并且指定chromedriver的路径\n",
    "driver = webdriver.Chrome(executable_path=driver_path)\n",
    "# 请求网页\n",
    "driver.get(\"https://www.baidu.com/\")\n",
    "# 通过page_source获取网页源代码\n",
    "print(driver.page_source)"
   ]
  },
  {
   "cell_type": "markdown",
   "metadata": {
    "collapsed": true
   },
   "source": [
    "#### 示例如下，详情参见demo1.py："
   ]
  },
  {
   "cell_type": "code",
   "execution_count": null,
   "metadata": {
    "collapsed": true
   },
   "outputs": [],
   "source": [
    "# selenium + chromedriver \n",
    "\n",
    "from selenium import webdriver\n",
    "\n",
    "# chromedriver的绝对路径\n",
    "driver_path = r\"G:\\ProgramApp\\chromedriver\\chromedriver.exe\"\n",
    "\n",
    "# 初始化一个driver，并且指定chromedriver的路径\n",
    "driver = webdriver.Chrome(executable_path=driver_path)\n",
    "\n",
    "# 请求网页\n",
    "driver.get('https://cn.bing.com/')\n",
    "\n",
    "# 通过page_source获取网页源代码\n",
    "print(driver.page_source)"
   ]
  },
  {
   "cell_type": "markdown",
   "metadata": {
    "collapsed": true
   },
   "source": [
    "### selenium常用操作：\n",
    "#### 更多教程请参考：http://selenium-python.readthedocs.io/installation.html#introduction"
   ]
  },
  {
   "cell_type": "markdown",
   "metadata": {},
   "source": [
    "#### 关闭页面：    \n",
    "driver.close()：关闭当前页面。    \n",
    "driver.quit()：退出整个浏览器。"
   ]
  },
  {
   "cell_type": "markdown",
   "metadata": {
    "collapsed": true
   },
   "source": [
    "#### 定位元素：\n",
    "\n",
    "1.find_element_by_id：根据id来查找某个元素。等价于：     \n",
    " submitTag = driver.find_element_by_id('su')    \n",
    " submitTag1 = driver.find_element(By.ID,'su')    \n",
    " \n",
    "2.find_element_by_class_name：根据类名查找元素。 等价于：    \n",
    " submitTag = driver.find_element_by_class_name('su')    \n",
    " submitTag1 = driver.find_element(By.CLASS_NAME,'su')    \n",
    " \n",
    "3.find_element_by_name：根据name属性的值来查找元素。等价于：    \n",
    " submitTag = driver.find_element_by_name('email')    \n",
    " submitTag1 = driver.find_element(By.NAME,'email')    \n",
    " \n",
    "4.find_element_by_tag_name：根据标签名来查找元素。等价于：    \n",
    " submitTag = driver.find_element_by_tag_name('div')    \n",
    " submitTag1 = driver.find_element(By.TAG_NAME,'div')    \n",
    " \n",
    "5.find_element_by_xpath：根据xpath语法来获取元素。等价于：    \n",
    " submitTag = driver.find_element_by_xpath('//div')    \n",
    " submitTag1 = driver.find_element(By.XPATH,'//div')    \n",
    " \n",
    "6.find_element_by_css_selector：根据css选择器选择元素。等价于：    \n",
    " submitTag = driver.find_element_by_css_selector('//div')    \n",
    " submitTag1 = driver.find_element(By.CSS_SELECTOR,'//div')    \n",
    " \n",
    "要注意，find_element是获取第一个满足条件的元素。find_elements是获取所有满足条件的元素。"
   ]
  },
  {
   "cell_type": "markdown",
   "metadata": {},
   "source": [
    "#### 操作表单元素：\n",
    "\n",
    "1.操作输入框：分为两步。第一步：找到这个元素。第二步：使用send_keys(value)，将数据填充进去。示例代码如下：   \n",
    " inputTag = driver.find_element_by_id('kw')   \n",
    " inputTag.send_keys('python')   \n",
    "使用clear方法可以清除输入框中的内容。示例代码如下：   \n",
    " inputTag.clear()   \n",
    " \n",
    "2.操作checkbox：因为要选中checkbox标签，在网页中是通过鼠标点击的。因此想要选中checkbox标签，那么先选中这个标签，然后执行click事件。示例代码如下：   \n",
    " rememberTag = driver.find_element_by_name(\"rememberMe\")   \n",
    " rememberTag.click()   \n",
    " \n",
    "3.选择select：select元素不能直接点击。因为点击后还需要选中元素。这时候selenium就专门为select标签提供了一个类selenium.webdriver.support.ui.Select。将获取到的元素当成参数传到这个类中，创建这个对象。以后就可以使用这个对象进行选择了。示例代码如下：   \n",
    " from selenium.webdriver.support.ui import Select   \n",
    " #选中这个标签，然后使用Select创建对象   \n",
    " selectTag = Select(driver.find_element_by_name(\"jumpMenu\"))   \n",
    " #根据索引选择   \n",
    " selectTag.select_by_index(1)   \n",
    " #根据值选择   \n",
    " selectTag.select_by_value(\"http://www.95yueba.com\")   \n",
    " #根据可视的文本选择   \n",
    " selectTag.select_by_visible_text(\"95秀客户端\")   \n",
    " #取消选中所有选项   \n",
    " selectTag.deselect_all()   \n",
    " \n",
    "4.操作按钮：操作按钮有很多种方式。比如单击、右击、双击等。这里讲一个最常用的。就是点击。直接调用click函数就可以了。示例代码如下：   \n",
    " inputTag = driver.find_element_by_id('su')   \n",
    " inputTag.click()   "
   ]
  },
  {
   "cell_type": "markdown",
   "metadata": {
    "collapsed": true
   },
   "source": [
    "#### 行为链：\n",
    "有时候在页面中的操作可能要有很多步，那么这时候可以使用鼠标行为链类ActionChains来完成。比如现在要将鼠标移动到某个元素上并执行点击事件    \n",
    "    \n",
    "inputTag = driver.find_element_by_id('kw')    \n",
    "submitTag = driver.find_element_by_id('su')    \n",
    "    \n",
    "actions = ActionChains(driver)    \n",
    "actions.move_to_element(inputTag)    \n",
    "actions.send_keys_to_element(inputTag,'python')    \n",
    "actions.move_to_element(submitTag)    \n",
    "actions.click(submitTag)    \n",
    "actions.perform()    \n",
    "还有更多的鼠标相关的操作。    \n",
    "      \n",
    "click_and_hold(element)：点击但不松开鼠标。    \n",
    "context_click(element)：右键点击。    \n",
    "double_click(element)：双击。 更多方法请参考：http://selenium-python.readthedocs.io/api.html    "
   ]
  },
  {
   "cell_type": "markdown",
   "metadata": {
    "collapsed": true
   },
   "source": [
    "#### Cookie操作:\n",
    "\n",
    "1.获取所有的cookie：    \n",
    " for cookie in driver.get_cookies():   \n",
    "     print(cookie)   \n",
    "       \n",
    "2.根据cookie的key获取value：   \n",
    " value = driver.get_cookie(key)   \n",
    "    \n",
    "3.删除所有的cookie：   \n",
    " driver.delete_all_cookies()   \n",
    "    \n",
    "4.删除某个cookie：   \n",
    " driver.delete_cookie(key)   "
   ]
  },
  {
   "cell_type": "markdown",
   "metadata": {
    "collapsed": true
   },
   "source": [
    "#### 页面等待：\n",
    "\n",
    "现在的网页越来越多采用了 Ajax 技术，这样程序便不能确定何时某个元素完全加载出来了。如果实际页面等待时间过长导致某个dom元素还没出来，但是你的代码直接使用了这个WebElement，那么就会抛出NullPointer的异常。为了解决这个问题。所以 Selenium 提供了两种等待方式：一种是隐式等待、一种是显式等待。   \n",
    "\n",
    "隐式等待：调用driver.implicitly_wait。那么在获取不可用的元素之前，会先等待10秒中的时间。示例代码如下：   \n",
    "   \n",
    "driver = webdriver.Chrome(executable_path=driver_path)   \n",
    "driver.implicitly_wait(10)   \n",
    "// 请求网页   \n",
    "driver.get(\"https://www.douban.com/\")   \n",
    "    \n",
    "    \n",
    "显示等待：显示等待是表明某个条件成立后才执行获取元素的操作。也可以在等待的时候指定一个最大的时间，如果超过这个时间那么就抛出一个异常。显示等待应该使用selenium.webdriver.support.excepted_conditions期望的条件和selenium.webdriver.support.ui.WebDriverWait来配合完成。示例代码如下：   \n",
    "   \n",
    " from selenium import webdriver   \n",
    " from selenium.webdriver.common.by import By   \n",
    " from selenium.webdriver.support.ui import WebDriverWait   \n",
    " from selenium.webdriver.support import expected_conditions as EC   \n",
    "   \n",
    " driver = webdriver.Firefox()   \n",
    " driver.get(\"http://somedomain/url_that_delays_loading\")   \n",
    " try:   \n",
    "     element = WebDriverWait(driver, 10).until(   \n",
    "         EC.presence_of_element_located((By.ID, \"myDynamicElement\"))   \n",
    "     )   \n",
    " finally:   \n",
    "     driver.quit()   \n",
    "一些其他的等待条件：   \n",
    "   \n",
    "presence_of_element_located：某个元素已经加载完毕了。   \n",
    "presence_of_all_emement_located：网页中所有满足条件的元素都加载完毕了。   \n",
    "element_to_be_cliable：某个元素是可以点击了。   \n",
    "   \n",
    "更多条件请参考：http://selenium-python.readthedocs.io/waits.html"
   ]
  },
  {
   "cell_type": "code",
   "execution_count": null,
   "metadata": {
    "collapsed": true
   },
   "outputs": [],
   "source": [
    "隐式等待：调用driver.implicitly_wait。那么在获取不可用的元素之前，会先等待10秒中的时间。示例代码如下：\n",
    "\n",
    "driver = webdriver.Chrome(executable_path=driver_path)\n",
    "driver.implicitly_wait(10)\n",
    "# 请求网页\n",
    "driver.get(\"https://www.douban.com/\")\n",
    "\n",
    "\n",
    "显示等待：显示等待是表明某个条件成立后才执行获取元素的操作。也可以在等待的时候指定一个最大的时间，如果超过这个时间那么就抛出一个异常。显示等待应该使用selenium.webdriver.support.excepted_conditions期望的条件和selenium.webdriver.support.ui.WebDriverWait来配合完成。示例代码如下：\n",
    "\n",
    "from selenium import webdriver\n",
    "from selenium.webdriver.common.by import By\n",
    "from selenium.webdriver.support.ui import WebDriverWait\n",
    "from selenium.webdriver.support import expected_conditions as EC\n",
    "\n",
    "driver = webdriver.Firefox()\n",
    "driver.get(\"http://somedomain/url_that_delays_loading\")\n",
    "try:\n",
    "element = WebDriverWait(driver, 10).until(\n",
    "EC.presence_of_element_located((By.ID, \"myDynamicElement\"))\n",
    ")"
   ]
  },
  {
   "cell_type": "markdown",
   "metadata": {
    "collapsed": true
   },
   "source": [
    "#### 切换页面：\n",
    "有时候窗口中有很多子tab页面。这时候肯定是需要进行切换的。selenium提供了一个叫做switch_to_window来进行切换，具体切换到哪个页面，可以从driver.window_handles中找到。示例代码如下："
   ]
  },
  {
   "cell_type": "code",
   "execution_count": null,
   "metadata": {
    "collapsed": true
   },
   "outputs": [],
   "source": [
    "# 打开一个新的页面(借助JavaScript语句)\n",
    "self.driver.execute_script(\"window.open('\"+url+\"')\")\n",
    "# 切换到这个新的页面中\n",
    "self.driver.switch_to_window(self.driver.window_handles[1])"
   ]
  },
  {
   "cell_type": "code",
   "execution_count": null,
   "metadata": {
    "collapsed": true
   },
   "outputs": [],
   "source": [
    "# 页面切换\n",
    "\n",
    "from selenium import webdriver\n",
    "\n",
    "driver_path = r\"G:\\ProgramApp\\chromedriver\\chromedriver.exe\"\n",
    "driver = webdriver.Chrome(executable_path=driver_path)\n",
    "driver.get('https://www.baidu.com/')\n",
    "\n",
    "#### 借助JavaScript语句打开一个新的页面\n",
    "driver.execute_script(\"window.open('https://www.douban.com/')\")   #JavaScript语句\n",
    "print(driver.window_handles)\n",
    "\n",
    "#### 切换到新的页面中\n",
    "driver.switch_to_window(driver.window_handles[1])\n",
    "print(driver.current_url)\n",
    "print(driver.page_source)\n",
    "\n",
    "# 虽然在窗口中切换到了新的页面，但是driveer中还没有切换\n",
    "# 如果想要在代码中切换到新的页面，并且做一下爬虫\n",
    "# 那么应该使用driver.switch_to_window来切换到指定的窗口\n",
    "# 从driver.window_handles中取出具体第几个窗口\n",
    "# driver.window_handles是一个列表，里面装的都是窗口句柄\n",
    "# 它会按照打开页面的顺序来存储窗口的句柄"
   ]
  }
 ],
 "metadata": {
  "kernelspec": {
   "display_name": "Python 3",
   "language": "python",
   "name": "python3"
  },
  "language_info": {
   "codemirror_mode": {
    "name": "ipython",
    "version": 3
   },
   "file_extension": ".py",
   "mimetype": "text/x-python",
   "name": "python",
   "nbconvert_exporter": "python",
   "pygments_lexer": "ipython3",
   "version": "3.6.3"
  }
 },
 "nbformat": 4,
 "nbformat_minor": 2
}

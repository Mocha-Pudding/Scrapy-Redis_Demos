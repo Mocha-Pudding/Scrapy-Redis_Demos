{
 "cells": [
  {
   "cell_type": "markdown",
   "metadata": {},
   "source": [
    "## Queue线程安全队列：\n",
    "\n",
    "#### 在线程中，访问一些全局变量，加锁是一个经常的过程。如果你是想把一些数据存储到某个队列中，那么Python内置了一个线程安全的模块叫做queue模块。\n",
    "#### Python中的queue模块中提供了同步的、线程安全的队列类，包括FIFO（先进先出）队列Queue，LIFO（后入先出）队列LifoQueue。这些队列都实现了锁原语（可以理解为原子操作，即要么不做，要么都做完），能够在多线程中直接使用。可以使用队列来实现线程间的同步。\n",
    "\n",
    "##### （注：队列，FIFO 先进先出，类似排队买票；        栈，LIFO 后进先出，类似抢的弹匣）\n",
    "\n",
    "##### 相关的函数如下："
   ]
  },
  {
   "cell_type": "markdown",
   "metadata": {},
   "source": [
    "#### 1.初始化Queue(maxsize)：创建一个先进先出的队列。\n",
    "#### 2.qsize()：返回队列的大小。\n",
    "#### 3.empty()：判断队列是否为空。\n",
    "#### 4.full()：判断队列是否满了。\n",
    "#### 5.get()：从队列中取最后一个数据。\n",
    "#### 6.put()：将一个数据放到队列中。"
   ]
  },
  {
   "cell_type": "markdown",
   "metadata": {},
   "source": [
    "#### 图示：\n",
    "<img src=\"队列和栈.png\" width=\"60%\">"
   ]
  },
  {
   "cell_type": "code",
   "execution_count": 1,
   "metadata": {},
   "outputs": [
    {
     "name": "stdout",
     "output_type": "stream",
     "text": [
      "0\n",
      "1\n",
      "2\n",
      "3\n",
      "4\n",
      "5\n",
      "6\n",
      "7\n",
      "8\n"
     ]
    }
   ],
   "source": [
    "# Queue线程安全队列：\n",
    "\n",
    "# 在线程中，访问一些全局变量，加锁是一个经常的过程。如果你是想把一些数据存储到某个队列中，那么Python内置了一个线程安全的模块叫做queue模块。\n",
    "# Python中的queue模块中提供了同步的、线程安全的队列类，包括FIFO（先进先出）队列Queue，LIFO（后入先出）队列LifoQueue。\n",
    "# 这些队列都实现了锁原语（可以理解为原子操作，即要么不做，要么都做完），能够在多线程中直接使用。可以使用队列来实现线程间的同步。\n",
    "# 相关的函数如下：\n",
    "# 1.初始化Queue(maxsize)：创建一个先进先出的队列。\n",
    "# 2.qsize()：返回队列的大小。\n",
    "# 3.empty()：判断队列是否为空。\n",
    "# 4.full()：判断队列是否满了。\n",
    "# 5.get()：从队列中取最后一个数据。\n",
    "# 6.put()：将一个数据放到队列中。\n",
    "\n",
    "from queue import Queue\n",
    "import time\n",
    "import threading\n",
    "\n",
    "# q = Queue(4)       # 初始化Queue(maxsize)：创建一个先进先出的队列。\n",
    "# q.put(1)           # put()：将一个数据放到队列中。\n",
    "# q.put(2)\n",
    "# for x in range(2):\n",
    "#     q.put(x)\n",
    "#\n",
    "# print(q.full())     # full()：判断队列是否满了。\n",
    "# print(q.empty())    # empty()：判断队列是否为空。\n",
    "# print(q.qsize())    # qsize()：返回队列的大小。\n",
    "# print(q.get())\n",
    "\n",
    "def set_value(q):\n",
    "    index = 0\n",
    "    while True:\n",
    "        q.put(index)\n",
    "        index += 1\n",
    "        time.sleep(3)\n",
    "\n",
    "def get_value(q):\n",
    "    while True:\n",
    "        print(q.get())\n",
    "\n",
    "def main():\n",
    "    q = Queue(4)\n",
    "    t1 = threading.Thread(target=set_value, args=[q])\n",
    "    t2 = threading.Thread(target=get_value, args=[q])\n",
    "\n",
    "    t1.start()\n",
    "    t2.start()\n",
    "\n",
    "if __name__ == '__main__':\n",
    "    main()"
   ]
  },
  {
   "cell_type": "code",
   "execution_count": null,
   "metadata": {
    "collapsed": true
   },
   "outputs": [],
   "source": []
  }
 ],
 "metadata": {
  "kernelspec": {
   "display_name": "Python 3",
   "language": "python",
   "name": "python3"
  },
  "language_info": {
   "codemirror_mode": {
    "name": "ipython",
    "version": 3
   },
   "file_extension": ".py",
   "mimetype": "text/x-python",
   "name": "python",
   "nbconvert_exporter": "python",
   "pygments_lexer": "ipython3",
   "version": "3.6.3"
  }
 },
 "nbformat": 4,
 "nbformat_minor": 2
}

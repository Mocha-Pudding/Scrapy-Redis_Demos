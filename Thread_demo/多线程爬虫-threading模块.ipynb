{
 "cells": [
  {
   "cell_type": "markdown",
   "metadata": {},
   "source": [
    "# 多线程介绍：\n",
    "\n",
    "### 多线程是为了同步完成多项任务，通过提高资源使用效率来提高系统的效率。线程是在同一时间需要完成多项任务的时候实现的。\n",
    "### 最简单的比喻多线程就像火车的每一节车厢，而进程则是火车。车厢离开火车是无法跑动的，同理火车也可以有多节车厢。多线程的出现就是为了提高效率。同时它的出现也带来了一些问题。\n",
    "#### 更多介绍请参考：https://baike.baidu.com/item/多线程/1190404?fr=aladdin"
   ]
  },
  {
   "cell_type": "markdown",
   "metadata": {},
   "source": [
    "## 1.threading模块介绍：\n",
    "#### threading模块是python中专门提供用来做多线程编程的模块。threading模块中最常用的类是Thread。"
   ]
  },
  {
   "cell_type": "code",
   "execution_count": null,
   "metadata": {},
   "outputs": [],
   "source": [
    "############ 传统方式 单线程 ############\n",
    "def coding():\n",
    "    for x in range(3):\n",
    "        print('正在写代码%s'%x)\n",
    "        time.sleep(1)\n",
    "\n",
    "def drawing():\n",
    "    for x in range(3):\n",
    "        print('正在画图%s'%x)\n",
    "        time.sleep(1)\n",
    "\n",
    "def main():\n",
    "    coding()\n",
    "    drawing()\n",
    "\n",
    "if __name__ == '__main__':\n",
    "    main()"
   ]
  },
  {
   "cell_type": "code",
   "execution_count": 3,
   "metadata": {},
   "outputs": [
    {
     "name": "stdout",
     "output_type": "stream",
     "text": [
      "正在写代码<Thread(Thread-8, started 2924)>\n",
      "正在画图<Thread(Thread-9, started 4156)>[<_MainThread(MainThread, started 7040)>, <Thread(Thread-4, started daemon 2124)>, <Heartbeat(Thread-5, started daemon 2504)>, <HistorySavingThread(IPythonHistorySavingThread, started 6296)>, <ParentPollerWindows(Thread-3, started daemon 6792)>, <Thread(Thread-8, started 2924)>, <Thread(Thread-9, started 4156)>]\n",
      "\n",
      "正在写代码<Thread(Thread-8, started 2924)>\n",
      "正在画图<Thread(Thread-9, started 4156)>\n",
      "正在写代码<Thread(Thread-8, started 2924)>\n",
      "正在画图<Thread(Thread-9, started 4156)>\n"
     ]
    }
   ],
   "source": [
    "############ 采用多线程 ############\n",
    "import threading    # 多线程 threading模块\n",
    "import time\n",
    "\n",
    "def coding():\n",
    "    for x in range(3):\n",
    "        print('正在写代码%s' %threading.current_thread())\n",
    "        # threading.current_thread()是当前线程的名称\n",
    "        time.sleep(1)\n",
    "\n",
    "def drawing():\n",
    "    for x in range(3):\n",
    "        print('正在画图%s' %threading.current_thread())\n",
    "        time.sleep(1)\n",
    "\n",
    "def main():\n",
    "    t1 = threading.Thread(target=coding)\n",
    "    t2 = threading.Thread(target=drawing)\n",
    "\n",
    "    t1.start()\n",
    "    t2.start()\n",
    "\n",
    "    print(threading.enumerate())   # threading.enumerate()函数查看线程数\n",
    "\n",
    "if __name__ == '__main__':\n",
    "    main()"
   ]
  },
  {
   "cell_type": "markdown",
   "metadata": {},
   "source": [
    "### 注：\n",
    "#### 查看线程数：使用threading.enumerate()函数便可以看到当前线程的数量。\n",
    "\n",
    "#### 查看当前线程的名字：使用threading.current_thread()可以看到当前线程的信息。"
   ]
  },
  {
   "cell_type": "code",
   "execution_count": null,
   "metadata": {
    "collapsed": true
   },
   "outputs": [],
   "source": []
  },
  {
   "cell_type": "markdown",
   "metadata": {},
   "source": [
    "## 2.继承自threading.Thread类：\n",
    "#### 为了让线程代码更好的封装。可以使用threading模块下的Thread类，继承自这个类，然后实现run方法，线程就会自动运行run方法中的代码"
   ]
  },
  {
   "cell_type": "code",
   "execution_count": 2,
   "metadata": {},
   "outputs": [
    {
     "name": "stdout",
     "output_type": "stream",
     "text": [
      "正在写代码<CodingThread(Thread-6, started 5420)>\n",
      "正在画图<DrawingThread(Thread-7, started 4216)>\n",
      "正在写代码<CodingThread(Thread-6, started 5420)>\n",
      "正在画图<DrawingThread(Thread-7, started 4216)>\n",
      "正在写代码<CodingThread(Thread-6, started 5420)>\n",
      "正在画图<DrawingThread(Thread-7, started 4216)>\n"
     ]
    }
   ],
   "source": [
    "import threading\n",
    "import time\n",
    "\n",
    "#定义线程类 CodingThread\n",
    "class CodingThread(threading.Thread):\n",
    "    def run(self):\n",
    "        for x in range(3):\n",
    "            print('正在写代码%s' % threading.current_thread())\n",
    "            # threading.current_thread()是当前线程的名称\n",
    "            time.sleep(1)\n",
    "\n",
    "#定义线程类 DrawingThread\n",
    "class DrawingThread(threading.Thread):\n",
    "    def run(self):\n",
    "        for x in range(3):\n",
    "            print('正在画图%s' % threading.current_thread())\n",
    "            time.sleep(1)\n",
    "\n",
    "def main():\n",
    "    t1 = CodingThread()   #通过创建对象的方式来创建一个线程\n",
    "    t2 = DrawingThread()\n",
    "\n",
    "    t1.start()\n",
    "    t2.start()\n",
    "\n",
    "if __name__ == '__main__':\n",
    "    main()"
   ]
  },
  {
   "cell_type": "code",
   "execution_count": null,
   "metadata": {
    "collapsed": true
   },
   "outputs": [],
   "source": []
  },
  {
   "cell_type": "markdown",
   "metadata": {},
   "source": [
    "## 3.多线程共享全局变量的问题：\n",
    "#### 多线程都是在同一个进程中运行的。因此在进程中的全局变量所有线程都是可共享的。这就造成了一个问题，因为线程执行的顺序是无序的。有可能会造成数据错误。"
   ]
  },
  {
   "cell_type": "code",
   "execution_count": 5,
   "metadata": {},
   "outputs": [
    {
     "name": "stdout",
     "output_type": "stream",
     "text": [
      "value: 1071052\n",
      "value: 1229829\n",
      "value: 1230336\n"
     ]
    }
   ],
   "source": [
    "# 多线程共享全局变量的问题\n",
    "import threading\n",
    "\n",
    "VALUE = 0\n",
    "\n",
    "def add_value():\n",
    "    global VALUE\n",
    "    for x in range(1000000):\n",
    "        VALUE += 1\n",
    "    print('value: %d'  %VALUE)\n",
    "\n",
    "def main():\n",
    "    for x in range(3):\n",
    "        t = threading.Thread(target=add_value)\n",
    "        t.start()\n",
    "\n",
    "if __name__ == '__main__':\n",
    "    main()"
   ]
  },
  {
   "cell_type": "markdown",
   "metadata": {},
   "source": [
    "### 锁机制\n",
    "#### 为了解决以上使用共享全局变量的问题。threading提供了一个Lock类，这个类可以在某个线程访问某个变量的时候加锁，其他线程此时就不能进来，直到当前线程处理完后，把锁释放了，其他线程才能进来处理。\n",
    "\n",
    "##### 注意：只需要针对修改了全局变量的地方加锁，访问了全局变量而没有修改全局变量的值的地方不需要加锁"
   ]
  },
  {
   "cell_type": "code",
   "execution_count": 6,
   "metadata": {},
   "outputs": [
    {
     "name": "stdout",
     "output_type": "stream",
     "text": [
      "value: 1000000\n",
      "value: 2000000\n",
      "value: 3000000\n"
     ]
    }
   ],
   "source": [
    "# 多线程共享全局变量的问题 以及锁机制解决以上问题\n",
    "import threading\n",
    "\n",
    "VALUE = 0\n",
    "\n",
    "gLock = threading.Lock()   #创建锁\n",
    "\n",
    "def add_value():\n",
    "    global VALUE      #使用全局变量，需要用global关键字来声明\n",
    "    gLock.acquire()   #上锁  （只需要针对修改了全局变量的地方加锁，访问了全局变量的地方不需要加锁）\n",
    "    for x in range(1000000):\n",
    "        VALUE += 1\n",
    "    gLock.release()   #释放锁\n",
    "    print('value: %d'  %VALUE)\n",
    "\n",
    "def main():\n",
    "    for x in range(3):\n",
    "        t = threading.Thread(target=add_value)\n",
    "        t.start()\n",
    "\n",
    "if __name__ == '__main__':\n",
    "    main()"
   ]
  },
  {
   "cell_type": "code",
   "execution_count": null,
   "metadata": {
    "collapsed": true
   },
   "outputs": [],
   "source": []
  }
 ],
 "metadata": {
  "kernelspec": {
   "display_name": "Python 3",
   "language": "python",
   "name": "python3"
  },
  "language_info": {
   "codemirror_mode": {
    "name": "ipython",
    "version": 3
   },
   "file_extension": ".py",
   "mimetype": "text/x-python",
   "name": "python",
   "nbconvert_exporter": "python",
   "pygments_lexer": "ipython3",
   "version": "3.6.3"
  }
 },
 "nbformat": 4,
 "nbformat_minor": 2
}
